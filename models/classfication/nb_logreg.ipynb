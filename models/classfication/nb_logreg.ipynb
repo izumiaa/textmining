{
 "cells": [
  {
   "cell_type": "code",
   "execution_count": 11,
   "metadata": {},
   "outputs": [],
   "source": [
    "import pandas as pd\n",
    "import numpy as np\n",
    "\n",
    "from sklearn.feature_extraction.text import CountVectorizer\n",
    "from sklearn.naive_bayes import MultinomialNB\n",
    "from sklearn.metrics import accuracy_score, classification_report, confusion_matrix\n",
    "from scipy.sparse import hstack\n",
    "\n",
    "from sklearn.linear_model import LogisticRegression"
   ]
  },
  {
   "cell_type": "markdown",
   "metadata": {},
   "source": [
    "# 1) Loading Data"
   ]
  },
  {
   "cell_type": "code",
   "execution_count": 2,
   "metadata": {},
   "outputs": [
    {
     "data": {
      "text/html": [
       "<div>\n",
       "<style scoped>\n",
       "    .dataframe tbody tr th:only-of-type {\n",
       "        vertical-align: middle;\n",
       "    }\n",
       "\n",
       "    .dataframe tbody tr th {\n",
       "        vertical-align: top;\n",
       "    }\n",
       "\n",
       "    .dataframe thead th {\n",
       "        text-align: right;\n",
       "    }\n",
       "</style>\n",
       "<table border=\"1\" class=\"dataframe\">\n",
       "  <thead>\n",
       "    <tr style=\"text-align: right;\">\n",
       "      <th></th>\n",
       "      <th>label</th>\n",
       "      <th>text</th>\n",
       "      <th>cleaned_text</th>\n",
       "      <th>preprocessed_tokens</th>\n",
       "      <th>punctuation_percentage</th>\n",
       "      <th>num_chars</th>\n",
       "      <th>num_sentences</th>\n",
       "      <th>num_words</th>\n",
       "      <th>num_misspellings</th>\n",
       "      <th>misspelling_percentage</th>\n",
       "      <th>...</th>\n",
       "      <th>emotions</th>\n",
       "      <th>deception_score</th>\n",
       "      <th>money_score</th>\n",
       "      <th>payment_score</th>\n",
       "      <th>celebration_score</th>\n",
       "      <th>achievement_score</th>\n",
       "      <th>url_presence</th>\n",
       "      <th>phone_number_presence</th>\n",
       "      <th>binary_label</th>\n",
       "      <th>pos_verbs_percentage</th>\n",
       "    </tr>\n",
       "  </thead>\n",
       "  <tbody>\n",
       "    <tr>\n",
       "      <th>0</th>\n",
       "      <td>spam</td>\n",
       "      <td>calgary , alberta , jul 7 , 2005 ( ccnmatthews...</td>\n",
       "      <td>calgary , alberta , jul 7 , 2005 ( ccnmatthews...</td>\n",
       "      <td>['calgari', 'alberta', 'jul', 'ccnmatthew', 'v...</td>\n",
       "      <td>2.566049</td>\n",
       "      <td>0.028841</td>\n",
       "      <td>0.017150</td>\n",
       "      <td>0.026634</td>\n",
       "      <td>38</td>\n",
       "      <td>0.038000</td>\n",
       "      <td>...</td>\n",
       "      <td>{'help': 0.004336513443191674, 'office': 0.011...</td>\n",
       "      <td>0.000867</td>\n",
       "      <td>0.015611</td>\n",
       "      <td>0.01301</td>\n",
       "      <td>0.001735</td>\n",
       "      <td>0.002602</td>\n",
       "      <td>0</td>\n",
       "      <td>0</td>\n",
       "      <td>1</td>\n",
       "      <td>0.152000</td>\n",
       "    </tr>\n",
       "    <tr>\n",
       "      <th>1</th>\n",
       "      <td>ham</td>\n",
       "      <td>louise , as of today there is $ 722 , 572 in s...</td>\n",
       "      <td>louise , as of today there is $ 722 , 572 in s...</td>\n",
       "      <td>['louis', 'today', 'schedul', 'c', 'tbg', 'set...</td>\n",
       "      <td>3.571429</td>\n",
       "      <td>0.002575</td>\n",
       "      <td>0.002309</td>\n",
       "      <td>0.002930</td>\n",
       "      <td>8</td>\n",
       "      <td>0.072727</td>\n",
       "      <td>...</td>\n",
       "      <td>{'help': 0.0, 'office': 0.031007751937984496, ...</td>\n",
       "      <td>0.000000</td>\n",
       "      <td>0.000000</td>\n",
       "      <td>0.00000</td>\n",
       "      <td>0.000000</td>\n",
       "      <td>0.000000</td>\n",
       "      <td>0</td>\n",
       "      <td>0</td>\n",
       "      <td>0</td>\n",
       "      <td>0.190909</td>\n",
       "    </tr>\n",
       "    <tr>\n",
       "      <th>2</th>\n",
       "      <td>ham</td>\n",
       "      <td>Lmao but its so fun...</td>\n",
       "      <td>Lmao but its so fun...</td>\n",
       "      <td>['lmao', 'fun']</td>\n",
       "      <td>13.636364</td>\n",
       "      <td>0.000096</td>\n",
       "      <td>0.000330</td>\n",
       "      <td>0.000160</td>\n",
       "      <td>2</td>\n",
       "      <td>0.333333</td>\n",
       "      <td>...</td>\n",
       "      <td>{'help': 0.0, 'office': 0.0, 'dance': 0.0, 'mo...</td>\n",
       "      <td>0.000000</td>\n",
       "      <td>0.000000</td>\n",
       "      <td>0.00000</td>\n",
       "      <td>0.000000</td>\n",
       "      <td>0.000000</td>\n",
       "      <td>0</td>\n",
       "      <td>0</td>\n",
       "      <td>0</td>\n",
       "      <td>0.000000</td>\n",
       "    </tr>\n",
       "    <tr>\n",
       "      <th>3</th>\n",
       "      <td>ham</td>\n",
       "      <td>hi : here ' s the presentation . - - - - - ori...</td>\n",
       "      <td>hi : here ' s the presentation . - - - - - ori...</td>\n",
       "      <td>['hi', 'present', 'origin', 'messag', 'kitchen...</td>\n",
       "      <td>8.040712</td>\n",
       "      <td>0.008605</td>\n",
       "      <td>0.004947</td>\n",
       "      <td>0.007484</td>\n",
       "      <td>84</td>\n",
       "      <td>0.298932</td>\n",
       "      <td>...</td>\n",
       "      <td>{'help': 0.0, 'office': 0.011441647597254004, ...</td>\n",
       "      <td>0.000000</td>\n",
       "      <td>0.002288</td>\n",
       "      <td>0.00000</td>\n",
       "      <td>0.011442</td>\n",
       "      <td>0.000000</td>\n",
       "      <td>0</td>\n",
       "      <td>0</td>\n",
       "      <td>0</td>\n",
       "      <td>0.113879</td>\n",
       "    </tr>\n",
       "    <tr>\n",
       "      <th>4</th>\n",
       "      <td>ham</td>\n",
       "      <td>fraud</td>\n",
       "      <td>fraud</td>\n",
       "      <td>['fraud']</td>\n",
       "      <td>0.000000</td>\n",
       "      <td>0.000022</td>\n",
       "      <td>0.000330</td>\n",
       "      <td>0.000027</td>\n",
       "      <td>0</td>\n",
       "      <td>0.000000</td>\n",
       "      <td>...</td>\n",
       "      <td>{'help': 0.0, 'office': 0.0, 'dance': 0.0, 'mo...</td>\n",
       "      <td>1.000000</td>\n",
       "      <td>0.000000</td>\n",
       "      <td>0.00000</td>\n",
       "      <td>0.000000</td>\n",
       "      <td>0.000000</td>\n",
       "      <td>0</td>\n",
       "      <td>0</td>\n",
       "      <td>0</td>\n",
       "      <td>0.000000</td>\n",
       "    </tr>\n",
       "  </tbody>\n",
       "</table>\n",
       "<p>5 rows × 24 columns</p>\n",
       "</div>"
      ],
      "text/plain": [
       "  label                                               text  \\\n",
       "0  spam  calgary , alberta , jul 7 , 2005 ( ccnmatthews...   \n",
       "1   ham  louise , as of today there is $ 722 , 572 in s...   \n",
       "2   ham                             Lmao but its so fun...   \n",
       "3   ham  hi : here ' s the presentation . - - - - - ori...   \n",
       "4   ham                                              fraud   \n",
       "\n",
       "                                        cleaned_text  \\\n",
       "0  calgary , alberta , jul 7 , 2005 ( ccnmatthews...   \n",
       "1  louise , as of today there is $ 722 , 572 in s...   \n",
       "2                             Lmao but its so fun...   \n",
       "3  hi : here ' s the presentation . - - - - - ori...   \n",
       "4                                              fraud   \n",
       "\n",
       "                                 preprocessed_tokens  punctuation_percentage  \\\n",
       "0  ['calgari', 'alberta', 'jul', 'ccnmatthew', 'v...                2.566049   \n",
       "1  ['louis', 'today', 'schedul', 'c', 'tbg', 'set...                3.571429   \n",
       "2                                    ['lmao', 'fun']               13.636364   \n",
       "3  ['hi', 'present', 'origin', 'messag', 'kitchen...                8.040712   \n",
       "4                                          ['fraud']                0.000000   \n",
       "\n",
       "   num_chars  num_sentences  num_words  num_misspellings  \\\n",
       "0   0.028841       0.017150   0.026634                38   \n",
       "1   0.002575       0.002309   0.002930                 8   \n",
       "2   0.000096       0.000330   0.000160                 2   \n",
       "3   0.008605       0.004947   0.007484                84   \n",
       "4   0.000022       0.000330   0.000027                 0   \n",
       "\n",
       "   misspelling_percentage  ...  \\\n",
       "0                0.038000  ...   \n",
       "1                0.072727  ...   \n",
       "2                0.333333  ...   \n",
       "3                0.298932  ...   \n",
       "4                0.000000  ...   \n",
       "\n",
       "                                            emotions  deception_score  \\\n",
       "0  {'help': 0.004336513443191674, 'office': 0.011...         0.000867   \n",
       "1  {'help': 0.0, 'office': 0.031007751937984496, ...         0.000000   \n",
       "2  {'help': 0.0, 'office': 0.0, 'dance': 0.0, 'mo...         0.000000   \n",
       "3  {'help': 0.0, 'office': 0.011441647597254004, ...         0.000000   \n",
       "4  {'help': 0.0, 'office': 0.0, 'dance': 0.0, 'mo...         1.000000   \n",
       "\n",
       "   money_score payment_score celebration_score  achievement_score  \\\n",
       "0     0.015611       0.01301          0.001735           0.002602   \n",
       "1     0.000000       0.00000          0.000000           0.000000   \n",
       "2     0.000000       0.00000          0.000000           0.000000   \n",
       "3     0.002288       0.00000          0.011442           0.000000   \n",
       "4     0.000000       0.00000          0.000000           0.000000   \n",
       "\n",
       "   url_presence  phone_number_presence  binary_label  pos_verbs_percentage  \n",
       "0             0                      0             1              0.152000  \n",
       "1             0                      0             0              0.190909  \n",
       "2             0                      0             0              0.000000  \n",
       "3             0                      0             0              0.113879  \n",
       "4             0                      0             0              0.000000  \n",
       "\n",
       "[5 rows x 24 columns]"
      ]
     },
     "execution_count": 2,
     "metadata": {},
     "output_type": "execute_result"
    }
   ],
   "source": [
    "train_df = pd.read_csv('train_data.csv')\n",
    "test_df = pd.read_csv('test_data.csv')\n",
    "\n",
    "train_df.head()\n"
   ]
  },
  {
   "cell_type": "code",
   "execution_count": 3,
   "metadata": {},
   "outputs": [],
   "source": [
    "features = ['num_sentences', 'misspelling_percentage', 'pos_verbs_percentage',\n",
    "             'spaces_percentage', 'sentiment_score', 'money_score', 'payment_score',\n",
    "             'celebration_score', 'achievement_score', 'url_presence',\n",
    "             'phone_number_presence']\n",
    "\n",
    "train_text_data = train_df['cleaned_text'].astype(str) #can change to preprocessed_tokens if u want\n",
    "train_numerical_features = train_df[features].values\n",
    "train_labels = train_df['binary_label']\n",
    "\n",
    "test_text_data = test_df['cleaned_text'].astype(str)\n",
    "test_numerical_features = test_df[features].values\n",
    "test_labels = test_df['binary_label']"
   ]
  },
  {
   "cell_type": "markdown",
   "metadata": {},
   "source": [
    "# 2) Multinominal Naives Bayes Classification"
   ]
  },
  {
   "cell_type": "code",
   "execution_count": 15,
   "metadata": {},
   "outputs": [
    {
     "data": {
      "text/plain": [
       "['count_vectorizer.pkl']"
      ]
     },
     "execution_count": 15,
     "metadata": {},
     "output_type": "execute_result"
    }
   ],
   "source": [
    "# Vectorize the text data\n",
    "vectorizer = CountVectorizer()\n",
    "X_train_text_vector = vectorizer.fit_transform(train_text_data)\n",
    "X_test_text_vector = vectorizer.transform(test_text_data)\n",
    "\n",
    "# Combine text and numerical features for both train and test sets\n",
    "X_train = hstack((X_train_text_vector, train_numerical_features))\n",
    "X_test = hstack((X_test_text_vector, test_numerical_features))\n",
    "\n",
    "\n",
    "y_train = train_labels\n",
    "y_test = test_labels"
   ]
  },
  {
   "cell_type": "code",
   "execution_count": 5,
   "metadata": {},
   "outputs": [],
   "source": [
    "\n",
    "clf = MultinomialNB()\n",
    "nb_model = clf.fit(X_train, y_train)"
   ]
  },
  {
   "cell_type": "code",
   "execution_count": 6,
   "metadata": {
    "scrolled": true
   },
   "outputs": [
    {
     "name": "stdout",
     "output_type": "stream",
     "text": [
      "Accuracy: 0.9227659395266571\n",
      "Classification Report:\n",
      "               precision    recall  f1-score   support\n",
      "\n",
      "           0       0.97      0.90      0.93      7169\n",
      "           1       0.86      0.96      0.91      4704\n",
      "\n",
      "    accuracy                           0.92     11873\n",
      "   macro avg       0.92      0.93      0.92     11873\n",
      "weighted avg       0.93      0.92      0.92     11873\n",
      "\n"
     ]
    }
   ],
   "source": [
    "\n",
    "y_pred = clf.predict(X_test)\n",
    "\n",
    "print(\"Accuracy:\", accuracy_score(y_test, y_pred))\n",
    "print(\"Classification Report:\\n\", classification_report(y_test, y_pred))"
   ]
  },
  {
   "cell_type": "markdown",
   "metadata": {},
   "source": [
    "# 3) Log Regression"
   ]
  },
  {
   "cell_type": "code",
   "execution_count": 7,
   "metadata": {},
   "outputs": [
    {
     "name": "stdout",
     "output_type": "stream",
     "text": [
      "Accuracy: 0.9687526320222353\n",
      "Classification Report:\n",
      "               precision    recall  f1-score   support\n",
      "\n",
      "           0       0.96      0.98      0.97      7169\n",
      "           1       0.98      0.94      0.96      4704\n",
      "\n",
      "    accuracy                           0.97     11873\n",
      "   macro avg       0.97      0.96      0.97     11873\n",
      "weighted avg       0.97      0.97      0.97     11873\n",
      "\n"
     ]
    }
   ],
   "source": [
    "\n",
    "\n",
    "# Train Logistic Regression model\n",
    "logreg = LogisticRegression(max_iter=1000)  # Increase max_iter if needed\n",
    "lr_model = logreg.fit(X_train, y_train)\n",
    "\n",
    "# Predict on test data\n",
    "y_pred = logreg.predict(X_test)\n",
    "\n",
    "# Evaluate the model\n",
    "accuracy = accuracy_score(y_test, y_pred)\n",
    "print(\"Accuracy:\", accuracy)\n",
    "print(\"Classification Report:\\n\", classification_report(y_test, y_pred))"
   ]
  },
  {
   "cell_type": "markdown",
   "metadata": {},
   "source": [
    "# 4) Saving and loading"
   ]
  },
  {
   "cell_type": "code",
   "execution_count": 4,
   "metadata": {},
   "outputs": [],
   "source": [
    "from joblib import dump,load\n",
    "\n",
    "# Assuming you have trained Naive Bayes model named nb_model and Logistic Regression model named lr_model\n",
    "\n",
    "# Save Naive Bayes model\n",
    "dump(nb_model, 'naive_bayes_model.joblib')\n",
    "\n",
    "# Save Logistic Regression model\n",
    "dump(lr_model, 'logistic_regression_model.joblib')\n",
    "\n",
    "# Save vectorizer\n",
    "dump(vectorizer, 'count_vectorizer.pkl')\n",
    "\n",
    "# Load Naive Bayes model\n",
    "nb_model = load('naive_bayes_model.joblib')\n",
    "\n",
    "# Load Logistic Regression model\n",
    "lr_model = load('logistic_regression_model.joblib')"
   ]
  },
  {
   "cell_type": "markdown",
   "metadata": {},
   "source": [
    "# 5) Error Analysis"
   ]
  },
  {
   "cell_type": "markdown",
   "metadata": {},
   "source": [
    "## Naive Bayes Model"
   ]
  },
  {
   "cell_type": "code",
   "execution_count": 12,
   "metadata": {},
   "outputs": [
    {
     "name": "stdout",
     "output_type": "stream",
     "text": [
      "Accuracy: 0.9227659395266571\n",
      "Classification Report:\n",
      "               precision    recall  f1-score   support\n",
      "\n",
      "           0       0.97      0.90      0.93      7169\n",
      "           1       0.86      0.96      0.91      4704\n",
      "\n",
      "    accuracy                           0.92     11873\n",
      "   macro avg       0.92      0.93      0.92     11873\n",
      "weighted avg       0.93      0.92      0.92     11873\n",
      "\n",
      "Confusion Matrix:\n",
      " [[6423  746]\n",
      " [ 171 4533]]\n"
     ]
    }
   ],
   "source": [
    "y_pred = nb_model.predict(X_test)\n",
    "\n",
    "# Evaluate the model\n",
    "accuracy = accuracy_score(y_test, y_pred)\n",
    "print(\"Accuracy:\", accuracy)\n",
    "print(\"Classification Report:\\n\", classification_report(y_test, y_pred))\n",
    "print(\"Confusion Matrix:\\n\", confusion_matrix(y_test, y_pred))"
   ]
  },
  {
   "cell_type": "code",
   "execution_count": 10,
   "metadata": {},
   "outputs": [
    {
     "name": "stdout",
     "output_type": "stream",
     "text": [
      "\n",
      "False Positive Examples\n",
      "Text: No no. I will check all rooms befor activities\n",
      "Text: o  is afk  since 5 hours 50 minutes and 18 seconds reason \n",
      "Text: same im at my great aunts anniversary party in tarpon springs\n",
      "Text: Cool, text me when you head out\n",
      "Text: wastes hours to find new one\n",
      "Text: hi shanilrakhesh herethanksi have exchanged the uncut diamond stuffleaving back excellent service by dino and prem\n",
      "Text: go fool dont cheat others ok\n",
      "Text: Same here, but I consider walls and bunkers and shit important just because I never play on peaceful but I guess your place is high enough that it don't matter\n",
      "Text: Nope watching tv at home... Not going out. V bored...\n",
      "Text: you have not lost anything untill you sell\n",
      "\n",
      "False Negative Examples\n",
      "Text: consumer research corporation 3830 forest dr . , ste . 207 columbia , sc 29204 \n",
      "Text:            6500                     \n",
      "Text: internship alert dont know where to start your career? looking for upskilling opportunities? explore in the field of marketing and operations at unschoolin ! unschool is ranked\n",
      "Text: mau tanya kalau ijazah belum keluar cuma ada skl apa bisa daftar cpns?\n",
      "Text:               $68959          @managerastrid !                 rs gary astird \n",
      "Text: project tic toc technical manuel the is the script for a \" time tunnel technical manuel . the stewart / jeffrey mirror chamber revises einsetins ideas about light . light can be declerated at an infinite velocity speeding up time . light can also be accelerated at an infinite velocity speeding up time . the direction of time or entropy can be reversed for time and for information . if tv pictures are reflected to infinity then the number of frames per second is reduced or increased according to einsteins time dilation formula . if time is changed for information perhaps it can be used to send a man back in time and recover him . from : $ 1 . 00 the einstein chronicles the einstein chronicles details the attempt of the prophet hepzibah time lord and world famous channeler to reach albert einstein and solve the puzzle of his unified field theory . einstein is in hell and has seven brothers that he wants to warn not to come to a place like this . but abraham sais they have the law and the prophets let them hear them . if they will not hear them then they will not believe even if one should rise from the dead . from : $ 2 . 00 \n",
      "Text: go tell that midnight rider , oh well well tell them god almighty gonna cut them down my head ' s been wet with the midnight dews said he : your chief fault , my friend , is in being made of wood , and that i suppose you cannot help sampanjcem gullfaxe mzo 5 jalk have you have any idea who i amyes it ' s been quite a while \n",
      "Text: register now timetable\n",
      "Text:  s          s s     s   s    s            s    s  \n",
      "Text: hey fletcher , haven ' t seen you around for a while . how are things going ? you ' d never believe what the transformation i ' ve had ! i lost over 8 kg within a month , and i feel sooo much better . i feel clean , lean and mean ! : ) i have to share this with you ! the food that we ' ve been eating is not good for the digestive system . well , after trying the ' jaya ' method , my system is much cleaner and efficient . i feel great ! it ' s 100 % natural and for a limited time , they ' re having a ' jaya challenge ' where you get 1 month supply at the company ' s expense for free ! old ?ddon _ txt _ body regards , fletcher\n"
     ]
    }
   ],
   "source": [
    "fp_count = 0\n",
    "fn_count = 0\n",
    "max_count = 10\n",
    "\n",
    "# Iterate over test examples for false positives\n",
    "print(\"\\nFalse Positive Examples\")\n",
    "for idx in range(len(y_pred)):\n",
    "    # Check if the example is a false positive\n",
    "    if y_pred[idx] == 1 and y_test[idx] == 0 and fp_count < max_count:\n",
    "        print(\"Text:\", test_text_data[idx])\n",
    "        fp_count += 1\n",
    "    \n",
    "    # Break loop if we have found max_count examples\n",
    "    if fp_count >= max_count:\n",
    "        break\n",
    "\n",
    "# Iterate over test examples for false negatives\n",
    "print(\"\\nFalse Negative Examples\")\n",
    "for idx in range(len(y_pred)):\n",
    "    # Check if the example is a false negative\n",
    "    if y_pred[idx] == 0 and y_test[idx] == 1 and fn_count < max_count:\n",
    "        print(\"Text:\", test_text_data[idx])\n",
    "        fn_count += 1\n",
    "    \n",
    "    # Break loop if we have found max_count examples\n",
    "    if fn_count >= max_count:\n",
    "        break"
   ]
  },
  {
   "cell_type": "markdown",
   "metadata": {},
   "source": [
    "## Log Regression Model"
   ]
  },
  {
   "cell_type": "code",
   "execution_count": 13,
   "metadata": {},
   "outputs": [
    {
     "name": "stdout",
     "output_type": "stream",
     "text": [
      "Accuracy: 0.9687526320222353\n",
      "Classification Report:\n",
      "               precision    recall  f1-score   support\n",
      "\n",
      "           0       0.96      0.98      0.97      7169\n",
      "           1       0.98      0.94      0.96      4704\n",
      "\n",
      "    accuracy                           0.97     11873\n",
      "   macro avg       0.97      0.96      0.97     11873\n",
      "weighted avg       0.97      0.97      0.97     11873\n",
      "\n",
      "[[7057  112]\n",
      " [ 259 4445]]\n"
     ]
    }
   ],
   "source": [
    "y_pred = lr_model.predict(X_test)\n",
    "\n",
    "# Evaluate the model\n",
    "accuracy = accuracy_score(y_test, y_pred)\n",
    "print(\"Accuracy:\", accuracy)\n",
    "print(\"Classification Report:\\n\", classification_report(y_test, y_pred))\n",
    "print(confusion_matrix(y_test, y_pred))"
   ]
  },
  {
   "cell_type": "code",
   "execution_count": 8,
   "metadata": {},
   "outputs": [
    {
     "name": "stdout",
     "output_type": "stream",
     "text": [
      "\n",
      "False Positive Examples\n",
      "Text: in sigh here is esai ' s latest natural gas fundwatch . edna o ' connell office manager esai 301 edgewater place , suite 108 wakefield , ma 01880 ( 781 ) 245 - 2036 ( 781 ) 245 - 8706 ednao @ esaibos . com - ngol 1900 . pdf\n",
      "Text: no we sell it all so well have tons if coins then sell our coins to someone thru paypal voila money back in life pockets\n",
      "Text: here for your enjoyment is a little something discovered by my daughter kim url b outgoing mail is certified virus free checked by avg anti virus system http www grisoft com version 1635465 1635465 1635465 virus database 1635465 release date 1635465 1635465 1635465 to unsubscribe from this group send an email to forteana unsubscribe url your use of yahoo groups is subject to url\n",
      "Text: Your daily text from me  a favour this time\n",
      "Text: here are the days i have discrepancies with pg & e . please let me know which numbers are good . thanks thu 3 - 7159 day pg & e hpl 12 - 05 145833 120000 12 - 10 60000 35000 12 - 11 70000 80000 12 - 17 3125 3100 12 - 21 50000 70000 12 - 22 0 20000 12 - 25 0 30000 12 - 26 0 30000 12 - 27 31375 63000\n",
      "Text: don ' t save passwords internet explorer and some web based applications give you the ability to save your password , so you don ' t have to type it in each time you access it . unfortunately , this time - saver can also get you in trouble when you are forced to change your password and the new password doesn ' t get saved . we ' ve had numerous calls to the help desk due to old passwords still being \" saved \" . to keep yourself from being a victim ( and for good security ) , please do not save passwords when prompted . some examples are below . . . don ' t update software or install plug - ins most of us have gone to a web site that prompted us to update our software version or shows a link to install a new plug - in so we can see all the fancy web page components . many vendor web sites let you download demos of their software . we need to resist the temptation to do this , since it may not be approved software and could cause applications to malfunction . this can further lead to difficulty in tracking down the cause of problems , since the workstation is now \" non - standard \" . only the omaha it staff should be installing software . when in doubt , please contact the help desk for assistance . examples from web sites are below . . . . thanks ! : _ _ _ _ _ _ _ tyler a theobald ets omaha it 402 - 398 - 7247 solution center : 402 - 398 - 7454 \n",
      "Text: e eirikur hallgrimsson eh mad scientist com writes e you just can t tell important things from a picture and a few e words it s not how we are built there s no geek code for e the heart and soul nor is there a turing test even for someone with whom you ve spent 1635465 years boom bust and boom again and 1635465 children trust me there is no magic litmus test other than the totally empirical try it and see string bags full of oranges and matters of the heart people laugh at anything and things just fall apart michael leunig the only real test the only sensible test is to look back and realize your relationship has lasted 1635465 years and see no reason to believe it couldn t last another 1635465 in the absense of 1635465 years of actual ahem hands on experiential data a photo and a few word\n",
      "Text: bammelyoungfamilies - - - - - - - - - - - - - - - - - - - - - - - - - - - listbot sponsor - - - - - - - - - - - - - - - - - - - - - - - - - - get a low apr nextcard visa in 30 seconds ! 1 . fill in the brief application 2 . receive approval decision within 30 seconds 3 . get rates as low as 2 . 99 % intro or 9 . 99 % ongoing apr and no annual fee ! apply now ! http : / / www . bcentral . com / listbot / nextcard the previous e - mail truncated the full web address . so , try the link below instead : to unsubscribe , write to - unsubscribe @ listbot . com\n",
      "Text: network world fusion focus : phil hochmuth on linux today ' s focus : will linux be a hit or miss on the corporate desktop ? 03 / 15 / 00 dear wincenty kaminski , today ' s focus : will linux be a hit or miss on the corporate desktop ? by phil hochmuth so far this year , the buzz about linux in enterprise networks has focused on servers and embedded systems , with the growth of linux severs being most heralded . according to idc , a research firm based in framingham , mass . , linux was the fastest - growing server operating system last year , with a 93 % growth rate over the year before . linux was the second most - shipped operating system in 1999 after windows nt , capturing 24 % of new licenses shipped . as for the embedded market , linux has emerged as an ideal platform for network appliances , because the system can be modified to handle specialized , dedicated tasks very well . companies such as cobalt networks , picazo and progressive systems have announced linux - based appliances , ranging from web servers to pbxs to firewalls . but what of the open source hacker  , s dream of  & linux on every desktop ?  8 sure , linux on the desktop has become more accessible than ever , with colorful , shrink - wrapped boxes of caldera , red hat and corel linux now available at places like compusa . however , analysts have said that linux  , s growth in the enterprise will be limited to the macro and micro areas of network servers and embedded operating systems . according to idc , linux currently runs on only 4 % of u . s . desktops . the hold microsoft windows has on the desktop market will remain strong , analysts say , despite such factors as microsoft  , s antitrust problems and the surging popularity of linux . even some linux executives are skeptical of their product  , s desktop future . recently , suse ceo roland dyroff downplayed linux  , s future on desktops . dyroff said ,  & given the lack of applications available , we really can ' t claim it as being competitive on the desktop yet .  8 a recent survey by survey . com gives more hope for linux desktops . according to the survey of 1 , 640 enterprise network managers , open source operating systems are used on 10 % of desktops , with the number jumping to a surprising 23 % of enterprise desktops by 2002 . despite the mix of numbers being thrown around , two important factors that will determine the success of linux as an enterprise client desktop are : a standardized , easy - to - use graphical user interface ( gui ) and available applications . one company that is working to make linux more user friendly is palo alto - based eazel , which is designing a next - generation file management system and user interface to run on top of the linux kernel . according to eazel  , s web site , the company  , s goal is to bring linux to the masses and  & do it in a way that appeals to today ' s linux users and to mere mortals .  8 the company was founded by a group of former apple executives , and is allied with the gnome project , which has been doing extensive linux desktop environment development for several years . eazel is due to have a product out by the middle of this year . with an intuitive , icon - based file management environment , eazel is hoping its user interface will be an improvement over the two current linux guis , gnome and kde , and will help standardized the look and feel of linux for  & regular  8 users . for enterprise mangers who have already embraced linux on the server side , this development will be worth keeping an eye on . on the applications side , several office productivity suites have been available for some time , such as sun  , s staroffice suite and koffice for the kde desktop . corel has also ported its office products , such as wordperfect , over to linux to complement its own distribution of the operating system . while there have been recent rumors ( started by linux care vice president arthur tyde ) that microsoft is working on a port of ms office to linux , microsoft officials deny this . while linux may never supplant windows as the industry - standard desktop , there should be plenty of opportunity for linux pcs in enterprise nets in the future . to contact phil hochmuth : - - - - - - - - - - - - - - - - - - - - - - - - - phil hochmuth is a writer and researcher for network world , and a former systems integrator . you can reach him at mailto : phochmut @ nww . com . for related links - - click here for network world ' s home page : http : / / www . nwfusion . com staroffice software from sun http : / / www . sun . com / staroffice corel linux os http : / / www . corel . com / freedom / freedom . htm eazel http : / / www . eazel . com gnome - - the gnu network object model environment http : / / www . gnome . org koffice - - the integrated office suite for kde , the k desktop environment http : / / koffice . kde . org / cobalt networks , inc . http : / / www . cobaltnetworks . com progressive systems http : / / www . progressive - systems . com picazo http : / / www . picazo . com other linux - related articles from network world : active directory upgrade requires strong game plan , network world , 03 / 13 / 00 subscription services to subscribe or unsubscribe to any network world e - mail newsletters , go to : to change your email address , go to : subscription questions ? contact customer service by replying to this message . other questions / comments have editorial comments ? write jeff caruso , newsletter editor , at : mailto : jcaruso @ nww . com for advertising information , write jamie kalbach , account executive , at : mailto : jkalbach @ nww . com network world fusion is part of idg . net , the idg online network . it all starts here : http : / / www . idg . com copyright network world , inc . , 2000\n",
      "Text: begin pgp signed message hash sha1635465 hi i am wondering if there are any techniques to make a cd key of the like unbreakable either by giving it a cancelation date and a periodic renewal from a server or just by using self md1635465 signature on the resulting executable i know it must not be easy because the whole software piracy problem would be resolved but there must be some way to make it really hard to break it anyone have hints on this issue thanks yannick gingras network programer esc wq begin pgp signature version gnupg v1635465 1635465 1635465 gnu linux comment for info see url id1635465dbqe1635465bpyzuv1635465g1635465dnfo qraqbhakchtekxwd1635465zdmwf okakjxnnpknwacgtxz1635465 v1635465bbabue1635465vx uy1635465fhn1635465ifs uwqj end pgp signature\n",
      "\n",
      "False Negative Examples\n",
      "Text: ou wei lighting nights will be lightening hyperlink url 1635465 1635465 1635465 1635465 email ouwei url ou wei lighting nights will be lightened brief introduction since founded in 1635465 ou wei lighting co ltd has succeed in manufacturing the projection lighting ceiling hanging lighting inlaid lighting the products have stepped to professionalizing and seriesing development applying to the lighting of the markets hotels office buildings house rooms engineerings and projects we are expecting your cooperation and trade and welcome to our homepage www url or contact us by tel 1635465 1635465 fax 1635465 1635465 add sen li lighting city haizhou guzhen zhongshan guangdong email hyperlink ouwei url thank you a lot ou wei lighting co ltd var tcuser ouwei var tcclass 1635465\n",
      "Text: dont forget you can place as many free requests with 1stchoicecouk as you wish for more information call 08707808226\n",
      "Text: subscribe 4 subscribeug subscription for subscription we need only seriuos guyz\n",
      "Text: keep well ! in 1977 passport control the u . s . in 1940 open your fonts\n",
      "Text: mau tanya kalau ijazah belum keluar cuma ada skl apa bisa daftar cpns?\n",
      "Text: fact : you can go out tonight and approach any beautiful woman confidently and without fear . you can know exactly what to say to break the ice . . . . . . and exactly what to do to get her into bed ! rmove \n",
      "Text: alrite : ) nveer seen pron toons cmomon ssnee is the knack of seeing things as they are , and doing things as they ought to be doen . pushun b ' sehna j , j \n",
      "Text: she ancillary crankcase but slut transfusable oncology get perchlorate wyeth bolshevik . honey can seater without backdrop it meridional assuage stefan for seagram eli . rift hancock drape it prosopopoeia mcclure excursion be chartroom whoop . hello ! ! ! how are you doing ? how ' s life been treating you ? how ' s work ? what ' s been keeping you busy lately ? i hope this email finds all of you in good health . : - ) i ' m currently on my one year training in burma . another 1 year to go . wishing you a merry christmas ( for christians ) and a happy holiday ( for non - christians ) . attached are pictures i got from the net , the first prince of tennis ( really good ! ! ! ! ! ) , the second to get you into a festive mood ( hope it works ! ) : - ) hope to hear from you soon . all the best , damon : - ) he clitoris kodachrome and nebula deceitful difficulty her employing for dandelion longitudinal crosshatch . absorbent amplitude go cliche trademark resuming back dig ding belch her gable is acquit hilton . armco flageolet guanidine scribners grackle realm chromatin atlantic dahlia randy . she arithmetic for nuclei ala can dynamic delaware be tapestry wrapup is vigilante magazine ambiguity denver floury mediterranean . dukedom can imbroglio desolate doghouse that alphameric cilia afield so anaconda trounce cool exaltation . this hieroglyphic burroughs rampart bet broody divination could gear be reticent ceramic equinoctial . \n",
      "Text: averting mutterer profane altruism oleomargarine decades communes heritages singer affirmatively dominating comedians underground paralleling conjecturing choose pence town blankly relayed rushmore bath authentic chinas iranians digger beguiled splendor secretaries injure maya tiptoe fulminate \n",
      "Text: project tic toc technical manuel the is the script for a \" time tunnel technical manuel . the stewart / jeffrey mirror chamber revises einsetins ideas about light . light can be declerated at an infinite velocity speeding up time . light can also be accelerated at an infinite velocity speeding up time . the direction of time or entropy can be reversed for time and for information . if tv pictures are reflected to infinity then the number of frames per second is reduced or increased according to einsteins time dilation formula . if time is changed for information perhaps it can be used to send a man back in time and recover him . from : $ 1 . 00 the einstein chronicles the einstein chronicles details the attempt of the prophet hepzibah time lord and world famous channeler to reach albert einstein and solve the puzzle of his unified field theory . einstein is in hell and has seven brothers that he wants to warn not to come to a place like this . but abraham sais they have the law and the prophets let them hear them . if they will not hear them then they will not believe even if one should rise from the dead . from : $ 2 . 00 \n"
     ]
    }
   ],
   "source": [
    "fp_count = 0\n",
    "fn_count = 0\n",
    "max_count = 10\n",
    "\n",
    "# Iterate over test examples for false positives\n",
    "print(\"\\nFalse Positive Examples\")\n",
    "for idx in range(len(y_pred)):\n",
    "    # Check if the example is a false positive\n",
    "    if y_pred[idx] == 1 and y_test[idx] == 0 and fp_count < max_count:\n",
    "        print(\"Text:\", test_text_data[idx])\n",
    "        fp_count += 1\n",
    "    \n",
    "    # Break loop if we have found max_count examples\n",
    "    if fp_count >= max_count:\n",
    "        break\n",
    "\n",
    "# Iterate over test examples for false negatives\n",
    "print(\"\\nFalse Negative Examples\")\n",
    "for idx in range(len(y_pred)):\n",
    "    # Check if the example is a false negative\n",
    "    if y_pred[idx] == 0 and y_test[idx] == 1 and fn_count < max_count:\n",
    "        print(\"Text:\", test_text_data[idx])\n",
    "        fn_count += 1\n",
    "    \n",
    "    # Break loop if we have found max_count examples\n",
    "    if fn_count >= max_count:\n",
    "        break"
   ]
  },
  {
   "cell_type": "code",
   "execution_count": null,
   "metadata": {},
   "outputs": [],
   "source": []
  }
 ],
 "metadata": {
  "kernelspec": {
   "display_name": "Python 3",
   "language": "python",
   "name": "python3"
  },
  "language_info": {
   "codemirror_mode": {
    "name": "ipython",
    "version": 3
   },
   "file_extension": ".py",
   "mimetype": "text/x-python",
   "name": "python",
   "nbconvert_exporter": "python",
   "pygments_lexer": "ipython3",
   "version": "3.8.10"
  }
 },
 "nbformat": 4,
 "nbformat_minor": 4
}
