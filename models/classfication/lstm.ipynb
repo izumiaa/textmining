{
 "cells": [
  {
   "cell_type": "code",
   "execution_count": 1,
   "id": "bef891dd",
   "metadata": {},
   "outputs": [],
   "source": [
    "import pandas as pd\n",
    "import numpy as np\n",
    "import nltk\n",
    "import re\n",
    "from tensorflow.keras.layers import Input, Embedding, LSTM, concatenate, Dense, SpatialDropout1D, Bidirectional, Dropout\n",
    "from tensorflow.keras.models import Model, load_model\n",
    "from tensorflow.keras.preprocessing.text import Tokenizer\n",
    "from tensorflow.keras.preprocessing.sequence import pad_sequences\n",
    "from tensorflow.keras.callbacks import EarlyStopping, ModelCheckpoint\n",
    "from sklearn.metrics import classification_report"
   ]
  },
  {
   "cell_type": "markdown",
   "id": "0f73f050",
   "metadata": {},
   "source": [
    "# 1) Preparing Data"
   ]
  },
  {
   "cell_type": "code",
   "execution_count": 3,
   "id": "c53c78c3",
   "metadata": {},
   "outputs": [],
   "source": [
    "train_df = pd.read_csv('train_data.csv')\n",
    "test_df = pd.read_csv('test_data.csv')"
   ]
  },
  {
   "cell_type": "code",
   "execution_count": 4,
   "id": "cdac7fe8",
   "metadata": {},
   "outputs": [],
   "source": [
    "# Define features\n",
    "features = ['num_sentences', 'misspelling_percentage', 'pos_verbs_percentage',\n",
    "             'spaces_percentage', 'sentiment_score', 'money_score', 'payment_score',\n",
    "             'celebration_score', 'achievement_score', 'url_presence',\n",
    "             'phone_number_presence']\n",
    "\n",
    "train_text_data = train_df['cleaned_text'].astype(str)\n",
    "train_numerical_features = train_df[features].values\n",
    "train_labels = train_df['binary_label']\n",
    "\n",
    "test_text_data = test_df['cleaned_text'].astype(str)\n",
    "test_numerical_features = test_df[features].values\n",
    "test_labels = test_df['binary_label']\n",
    "\n",
    "# Text data preprocessing\n",
    "tokenizer = Tokenizer()\n",
    "tokenizer.fit_on_texts(train_text_data)\n",
    "X_train_text = tokenizer.texts_to_sequences(train_text_data)\n",
    "X_test_text = tokenizer.texts_to_sequences(test_text_data)\n",
    "max_length = 200 # majority of sequences have less than 200 tokens\n",
    "X_train_text = pad_sequences(X_train_text, maxlen=max_length)\n",
    "X_test_text = pad_sequences(X_test_text, maxlen=max_length)"
   ]
  },
  {
   "cell_type": "markdown",
   "id": "bd5c1d39",
   "metadata": {},
   "source": [
    "# 2) Model architecture\n",
    "\n",
    "1. **Embedding Layer**:\n",
    "   - Converts integer-encoded tokens into dense vectors of fixed size.\n",
    "   - Each token is mapped to a unique vector in a high-dimensional space.\n",
    "   - Captures semantic relationships between words based on their context.\n",
    "\n",
    "\n",
    "2. **Spatial Dropout Layer**:\n",
    "   - Applies dropout regularization specifically designed for 1D input data (e.g., sequences).\n",
    "   - Randomly sets a fraction of input units to zero during training to prevent overfitting.\n",
    "\n",
    "\n",
    "3. **Bidirectional LSTM Layer**:\n",
    "   - Consists of forward and backward LSTM units, allowing it to capture information from both past and future context.\n",
    "   - Each LSTM unit maintains an internal state and processes the input sequence step by step, updating its state at each time step.\n",
    "\n",
    "\n",
    "5. **Concatenation Layer**:\n",
    "   - Combines the outputs of the LSTM layer (both forward and backward representations) with the numerical features.\n",
    "\n",
    "\n",
    "6. **Dropout Layer**:\n",
    "   - Applies dropout regularization to the concatenated features.\n",
    "   - Randomly sets a fraction of input units to zero during training to prevent overfitting.\n",
    "\n",
    "\n",
    "7. **Dense Output Layer**:\n",
    "   - A fully connected layer that produces the final output predictions.\n",
    "   - Uses a sigmoid activation function to output a probability score for binary classification tasks.\n",
    "   - Output value close to 1 indicates a positive prediction, while a value close to 0 indicates a negative prediction."
   ]
  },
  {
   "cell_type": "code",
   "execution_count": 15,
   "id": "5d5f5aa2",
   "metadata": {},
   "outputs": [],
   "source": [
    "# Model architecture\n",
    "text_input = Input(shape=(max_length,), name='text_input')\n",
    "numerical_input = Input(shape=(len(features),), name='numerical_input')\n",
    "embedding_layer = Embedding(len(tokenizer.word_index) + 1, 128, input_length=max_length)(text_input)\n",
    "spatial_dropout = SpatialDropout1D(0.2)(embedding_layer)\n",
    "lstm_layer = Bidirectional(LSTM(64, dropout=0.2, recurrent_dropout=0.2))(spatial_dropout)\n",
    "concatenated = concatenate([lstm_layer, numerical_input])\n",
    "dropout_layer = Dropout(0.2)(concatenated)\n",
    "output = Dense(1, activation='sigmoid')(dropout_layer)\n",
    "model = Model(inputs=[text_input, numerical_input], outputs=output)\n",
    "\n",
    "# Compile the model\n",
    "model.compile(optimizer='adam', loss='binary_crossentropy', metrics=['accuracy'])\n",
    "\n",
    "# Callback\n",
    "checkpoint_filepath = 'best_lstm.h5'\n",
    "checkpoint_callback = ModelCheckpoint(filepath=checkpoint_filepath,\n",
    "                                      monitor='val_loss',\n",
    "                                      save_best_only=True,\n",
    "                                      mode='min',\n",
    "                                      verbose=1)"
   ]
  },
  {
   "cell_type": "code",
   "execution_count": 17,
   "id": "3cb0638f",
   "metadata": {},
   "outputs": [
    {
     "name": "stdout",
     "output_type": "stream",
     "text": [
      "Epoch 1/10\n",
      "1188/1188 [==============================] - 1960s 2s/step - loss: 0.1370 - accuracy: 0.9505 - val_loss: 0.1055 - val_accuracy: 0.9596\n",
      "\n",
      "Epoch 00001: val_loss improved from inf to 0.10546, saving model to best_lstm.h5\n",
      "Epoch 2/10\n",
      "1188/1188 [==============================] - 1752s 1s/step - loss: 0.0543 - accuracy: 0.9808 - val_loss: 0.0914 - val_accuracy: 0.9674\n",
      "\n",
      "Epoch 00002: val_loss improved from 0.10546 to 0.09136, saving model to best_lstm.h5\n",
      "Epoch 3/10\n",
      "1188/1188 [==============================] - 1630s 1s/step - loss: 0.0212 - accuracy: 0.9933 - val_loss: 0.0972 - val_accuracy: 0.9701\n",
      "\n",
      "Epoch 00003: val_loss did not improve from 0.09136\n",
      "Epoch 4/10\n",
      "1188/1188 [==============================] - 1739s 1s/step - loss: 0.0267 - accuracy: 0.9909 - val_loss: 0.1272 - val_accuracy: 0.9620\n",
      "\n",
      "Epoch 00004: val_loss did not improve from 0.09136\n",
      "Epoch 5/10\n",
      "1188/1188 [==============================] - 1673s 1s/step - loss: 0.0153 - accuracy: 0.9956 - val_loss: 0.1154 - val_accuracy: 0.9647\n",
      "\n",
      "Epoch 00005: val_loss did not improve from 0.09136\n",
      "Epoch 6/10\n",
      "1188/1188 [==============================] - 1860s 2s/step - loss: 0.0075 - accuracy: 0.9976 - val_loss: 0.1448 - val_accuracy: 0.9675\n",
      "\n",
      "Epoch 00006: val_loss did not improve from 0.09136\n",
      "Epoch 7/10\n",
      "1188/1188 [==============================] - 1843s 2s/step - loss: 0.0056 - accuracy: 0.9984 - val_loss: 0.1619 - val_accuracy: 0.9568\n",
      "\n",
      "Epoch 00007: val_loss did not improve from 0.09136\n",
      "Epoch 8/10\n",
      "1188/1188 [==============================] - 2166s 2s/step - loss: 0.0070 - accuracy: 0.9978 - val_loss: 0.1483 - val_accuracy: 0.9681\n",
      "\n",
      "Epoch 00008: val_loss did not improve from 0.09136\n",
      "Epoch 9/10\n",
      "1188/1188 [==============================] - 2915s 2s/step - loss: 0.0090 - accuracy: 0.9973 - val_loss: 0.1548 - val_accuracy: 0.9637\n",
      "\n",
      "Epoch 00009: val_loss did not improve from 0.09136\n",
      "Epoch 10/10\n",
      "1188/1188 [==============================] - 3401s 3s/step - loss: 0.0061 - accuracy: 0.9981 - val_loss: 0.1777 - val_accuracy: 0.9653\n",
      "\n",
      "Epoch 00010: val_loss did not improve from 0.09136\n"
     ]
    },
    {
     "data": {
      "text/plain": [
       "<tensorflow.python.keras.callbacks.History at 0x188a84bdbb0>"
      ]
     },
     "execution_count": 17,
     "metadata": {},
     "output_type": "execute_result"
    }
   ],
   "source": [
    "model.fit([X_train_text, train_numerical_features], train_labels, \n",
    "          epochs=10, batch_size=32, validation_split=0.2,\n",
    "          callbacks=[checkpoint_callback])"
   ]
  },
  {
   "cell_type": "markdown",
   "id": "8ef7e341",
   "metadata": {},
   "source": [
    "# 3) Model Evaluation\n",
    "The best model is saved from epoch 2 where `val_loss` was lowest. We need to convert the output into binary predictions before doing the classfication report. We find that the model is performing well enough even for the minority `spam` class. Hence we will not proceed with hyperparameter tuning or changing the model architecture due to computational constraints."
   ]
  },
  {
   "cell_type": "code",
   "execution_count": 7,
   "id": "5f63633c",
   "metadata": {},
   "outputs": [
    {
     "name": "stdout",
     "output_type": "stream",
     "text": [
      "              precision    recall  f1-score   support\n",
      "\n",
      "           0       0.97      0.98      0.97      7169\n",
      "           1       0.96      0.96      0.96      4704\n",
      "\n",
      "    accuracy                           0.97     11873\n",
      "   macro avg       0.97      0.97      0.97     11873\n",
      "weighted avg       0.97      0.97      0.97     11873\n",
      "\n"
     ]
    }
   ],
   "source": [
    "# Predict labels for test data\n",
    "best_model = load_model('best_lstm.h5')\n",
    "\n",
    "y_pred = best_model.predict([X_test_text, test_numerical_features])\n",
    "y_pred = (y_pred > 0.5).astype(int)  # Convert probabilities to binary predictions\n",
    "\n",
    "# Convert labels to binary values (0 or 1)\n",
    "test_labels_binary = (test_labels > 0.5).astype(int)\n",
    "\n",
    "# Print classification report\n",
    "print(classification_report(test_labels_binary, y_pred))"
   ]
  },
  {
   "cell_type": "markdown",
   "id": "6d822d30",
   "metadata": {},
   "source": [
    "# 4) Error Analysis"
   ]
  },
  {
   "cell_type": "code",
   "execution_count": 19,
   "id": "f64043ca",
   "metadata": {},
   "outputs": [
    {
     "name": "stdout",
     "output_type": "stream",
     "text": [
      "False Positive Examples\n",
      "Text: o  is afk  since 5 hours 50 minutes and 18 seconds reason \n",
      "Text: hi shanilrakhesh herethanksi have exchanged the uncut diamond stuffleaving back excellent service by dino and prem\n",
      "Text: 20210406 204127  600\n",
      "Text: here is my proposed webtext for fts - 1 . note i ' ve left blanks for you to fill in points . text for other services is forthcoming .\n",
      "Text: 1 - 800 - 621 - 7467 or ? cust . serv . 1 - 800 - 932 - 2732\n",
      "Text: instagram\n",
      "Text: Your daily text from me  a favour this time\n",
      "Text: how about 1 : 30 today on 32 in the texas gas trading area . dale neuner 06 / 23 / 2000 11 : 07 am to : steve venturatos / hou / ect @ ect cc : sheri thomas / hou / ect @ ect subject : re : new eol product we should sit and discuss the processes involved in creating new , unprecedented product types in eol , as i think it is important for you to understand the myriad of processes involved . to start with , legal will absolutely need to be involved , as it sounds like a new gtc is in order . please call either sheri thomas or i when you are ready to discuss the new product . dale enron capital & trade resources corp . from : steve venturatos 06 / 23 / 2000 10 : 35 am to : dale neuner / hou / ect @ ect cc : subject : re : new eol product it is a totally new product . dale neuner 06 / 23 / 2000 09 : 43 am to : steve venturatos / hou / ect @ ect , melba lozano / hou / ect @ ect , sheri thomas / hou / ect @ ect , robert b cass / hou / ect @ ect cc : subject : re : new eol product steve - one issue that immediately comes to mind is the ' general terms and conditions ' ability to handle intra - day nominations . . this may require a new product type and gtc . are we presently trading this product otc , or is this unprecedented ? dale to : dale neuner / hou / ect @ ect cc : subject : new eol product - - - - - - - - - - - - - - - - - - - - - - forwarded by melba lozano / hou / ect on 06 / 23 / 2000 09 : 30 am - - - - - - - - - - - - - - - - - - - - - - - - - - - enron north america corp . from : steve venturatos 06 / 23 / 2000 09 : 29 am to : sheri thomas / hou / ect @ ect , melba lozano / hou / ect @ ect cc : subject : new eol product we are finalizing plans to introduce a new gas products ( s ) for july . the product ( s ) would be an hourly product either 5 x 8 or 5 xl 2 or 5 xl 6 . even though we have not decided which product to introduce , i thought i would give you a heads up to keep you in the loop .\n",
      "Text: paul bristow gave me a call a few minutes ago , and is sending over some info . i also received an email yesterday relating to operational risk . evidently cibc has purchased some software to help quantify there exposure . - kevin - - - - - - - - - - - - - - - - - - - - - - forwarded by kevin kindall / corp / enron on 08 / 08 / 2000 10 : 06 am - - - - - - - - - - - - - - - - - - - - - - - - - - - \" tao , xin \" on 08 / 07 / 2000 12 : 26 : 00 pm to : undisclosed - recipients : ; cc : subject : press release - netrisk announces sale of riskopstm software to c anadian imperial bank of commerce and erste bank > please find attached an update on our most recent riskops sales . in > addition , we are currently implementing riskops at a continental european > financial insitution and a tokyo based japanese financial institution , > neither of whom are more members . we hope to issue a press release on > these clients in the near future . > > kind regards , > > lara swann > > > > > > > netrisk announces sale of riskopstm software > to canadian imperial bank of commerce and erste bank > > > greenwich , ct . july 11 , 2000 - netrisk , inc . , the risk management software > and advisory firm , today announced that both canadian imperial bank of > commerce ( cibc ) and erste bank have purchased licenses to its riskops ( tm ) > software product for measuring and managing enterprise - wide operational > risk . operational risk includes the risk of direct and indirect loss from > causes as diverse as rogue trading to technology failures to improper > sales practices . > > erste bank , the second largest austrian bank , and canadian imperial bank > of commerce , the second largest canadian bank , plan to use riskops ( tm ) on > a continuing basis to help evaluate and quantify their firm - wide > operational risk capital . the results will be integrated into their > risk - adjusted return on capital ( raroc ) and consolidated enterprise > ( market , credit and operational ) risk measures . these measures will help > both banks to better allocate resources , evaluate individual business > units on a risk - adjusted basis and improve strategic decision - making . > > \" we are delighted to continue our working relationships with cibc and > erste bank by offering the riskops ( tm ) solution to complete their > operational risk measurement and management processes , \" says dan mudge , a > founding partner of netrisk . \" operational risk has been at the forefront > of the regulators ' minds and both cibc and erste bank are taking leading > positions in the industry by quantifying capital at risk by business > line . \" > > \" riskops ( tm ) has enabled us to comprehensively measure and manage > operational risk for each of our businesses , \" says tony peccia , head of > operational risk management at cibc . \" riskops ( tm ) gives us the tools we > need not only for capital allocation purposes but also for strategic > decision making . \" > > \" the formal inclusion of operational risk into our overall risk management > framework has required a significant commitment of erste bank . > riskops ( tm ) will be used to estimate capital at risk for each business , > thereby creating an incentive for stronger risk management within the > bank , \" says franz reif head of risk management of erste bank . \" in > addition , we plan to work with swiss re new markets to evaluate our risk > financing alternatives to ensure our capital is being used most > efficiently . \" > > \" netrisk is pleased to continue its leadership role in helping the > financial services industry develop methods and tools to quantify and > manage operational risk , \" said rob ceske , head of netrisk ' s operational > risk management division . \" as another example , the data standards we are > developing in conjunction with multinational operational risk exchange ( tm ) > ( more ( tm ) ) , which includes cibc , will significantly benefit the industry ' s > ability to exchange loss and risk data . \" > > riskops ( tm ) incorporates a database of published operational risk losses > from the financial services industry , combined with web - based software to > allow users to understand operational risk , analyze loss probabilities , > scale these losses to their firm and determine operational risk profiles , > including operational capital - at - risk . the product displays graphical > analyses of the causes , effects , probabilities and severities of > operational risk , specific descriptions of events and measures to help > senior management and risk managers understand and quantify the sources of > operational risk . riskops ( tm ) is available via the internet , by means of > any standard browser . > > about netrisk > netrisk ' s mission is to bring cost - effective , practical , leading edge risk > solutions to its clients . to do so it is creating on - line communities and > risk analytic software delivered via the internet . products and services > offered by netrisk include : riskops - internet - based operational risk > management solution ; crystal box - interactive performance and risk > reporting for the investment professional ; and risk advisory - enterprise > risk management consulting , advice and solutions to the financial services > industry . gene shanks , the former president of bankers trust , founded > netrisk , inc . in 1997 . netrisk has offices in greenwich , ct ; new york > city ; and london . additional information on netrisk is available at > http : / / www . netrisk . com / and on more at morexchange . org . > > about canadian imperial bank of commerce > canadian imperial bank of canada is canada ' s number two bank . its 1350 > branches a range of banking services , including checking and savings > accounts , investment products , mortgages and other loans , and credit cards > to consumers and small to mid - sized businesses . in addition , the bank > underwrites and sells life , credit , personal property / casualty , and > non - medical health insurance . cibc world markets provides investment > banking and other financial services in north america , europe and latin > america . > about erste bank > erste bank is austria ' s oldest and second - largest commercial bank . the > bank is doing business in six core segments : retail banking , corporate > banking , treasury , trading and sales , and real estate financing and asset > management . it has approximately 300 branches with international offices > in new york , hong kong , and london . as austrian banks consolidate , erste > bank is increasing its presence in eastern europe . it has subsidiaries in > croatia and hungary and acquired 52 % of the shares in ceska sporitelna , > the second largest bank in the czech republic from the czech government . > one of erste bank ' s largest shareholders is savings foundation > anteilsverwaltung sparkasse . > > > > >\n",
      "Text: i don ' t want to give them anything more than a 5 - 8 line bio . do you have anything prepared ? - r n . b . spoke with koenig and we ' ll be chatting with palmer tomorrow . koenig said he ' ll try and make it , but also thinks palmer should be involved because of the fortune angle . will fill you in later tomorrow .\n",
      "\n",
      "\n",
      "False Negative Examples\n",
      "Text: your family could definately use this , now go . gqxoayoh\n",
      "Text: consumer research corporation 3830 forest dr . , ste . 207 columbia , sc 29204 \n",
      "Text:                                         reborncrewbot               :  200          drop username and name if want to participate\n",
      "Text: ou wei lighting nights will be lightening hyperlink url 1635465 1635465 1635465 1635465 email ouwei url ou wei lighting nights will be lightened brief introduction since founded in 1635465 ou wei lighting co ltd has succeed in manufacturing the projection lighting ceiling hanging lighting inlaid lighting the products have stepped to professionalizing and seriesing development applying to the lighting of the markets hotels office buildings house rooms engineerings and projects we are expecting your cooperation and trade and welcome to our homepage www url or contact us by tel 1635465 1635465 fax 1635465 1635465 add sen li lighting city haizhou guzhen zhongshan guangdong email hyperlink ouwei url thank you a lot ou wei lighting co ltd var tcuser ouwei var tcclass 1635465\n",
      "Text: internship alert dont know where to start your career? looking for upskilling opportunities? explore in the field of marketing and operations at unschoolin ! unschool is ranked\n",
      "Text: hello anybody want to buy script of rare items  include s2 rare upcoming emotes script black shirt rare gunskin and many more to buy script contact @shaunthesheepff if u are limited then reply me in group\n",
      "Text: keep well ! in 1977 passport control the u . s . in 1940 open your fonts\n",
      "Text: mau tanya kalau ijazah belum keluar cuma ada skl apa bisa daftar cpns?\n",
      "Text: fact : you can go out tonight and approach any beautiful woman confidently and without fear . you can know exactly what to say to break the ice . . . . . . and exactly what to do to get her into bed ! rmove \n",
      "Text: dostoevsky complacent you ' ve heard it all before ! no degree , no job ! you don ' t qualify ? what ' s your degree in ? where did you go to school ? with a degree we could offer you a higher salary ? now you can finally have the degree you deserve based on your \" life experience . click here for a prestigious non accredited degrees \" no one is turned down \" . read here for more info . we also provide degree verification and official trancripts in writing when requested by employers and others authorized by you . this official college university transcripts meet the highest academic standards printed on premium diploma paper , bearing the official gold raised seal of the awarding university or college . our credit for work experience and accreditation process . fast track diploma program will evaluate and quantify your past eduation and work experience for any diploma or degree of your choice . thus , you do not have to repeat or take basic courses in areas that you have already been mastered . credit for work experience allows students to upgrade their qualifications that relate to advancing their professional career without going back to school . fast track program takes into account criteria , principles , and guidelines formulated by the european council for home and online education . awards can also be granted for the purpose of honoring those who exemplify the ideals of higher education through their significant achievements and contributions to business and society in their respective geographic area . for a doctorate or masters of business administration , a previous university education may not be required for persons with extensive experience in any field related to civil service , business administration , management , finance , healthcare , military , etc . act today . no one is turned down . your confidentiality assured . the more degrees you have the better your chances and prospects in life . that is the way life is . it is a competitive world . don ' t delay to contact us today . to stop future solicitation visit here and then in such compellingly disappointing conditions i found tina . even under these conditions she was full of life , breathing with all the energy . she wasn ' t very beautiful but she was definitely very attractive . so it was natural for me to take interest in her but what surprised me was that she attracted to me as well . i met her with reference of finding a job . she gave me the job and her company . i don ' t know why , even though she was married .\n"
     ]
    }
   ],
   "source": [
    "# Initialize counters for false positives and false negatives\n",
    "fp_count = 0\n",
    "fn_count = 0\n",
    "max_count = 10\n",
    "\n",
    "# Iterate over test examples for false positives\n",
    "print(\"False Positive Examples\")\n",
    "for idx in range(len(y_pred)):\n",
    "    # Check if the example is a false positive\n",
    "    if y_pred[idx] == 1 and test_labels_binary[idx] == 0 and fp_count < max_count:\n",
    "        print(\"Text:\", test_text_data[idx])\n",
    "        fp_count += 1\n",
    "    \n",
    "    # Break loop if we have found 5 examples\n",
    "    if fp_count >= max_count:\n",
    "        break\n",
    "\n",
    "# Iterate over test examples for false negatives\n",
    "print(\"\\n\\nFalse Negative Examples\")\n",
    "for idx in range(len(y_pred)):\n",
    "    # Check if the example is a false negative\n",
    "    if y_pred[idx] == 0 and test_labels_binary[idx] == 1 and fn_count < max_count:\n",
    "        print(\"Text:\", test_text_data[idx])\n",
    "        fn_count += 1\n",
    "    \n",
    "    # Break loop if we have found 5 examples\n",
    "    if fn_count >= max_count:\n",
    "        break\n"
   ]
  },
  {
   "cell_type": "code",
   "execution_count": null,
   "id": "611b1616",
   "metadata": {},
   "outputs": [],
   "source": []
  }
 ],
 "metadata": {
  "kernelspec": {
   "display_name": "Python 3",
   "language": "python",
   "name": "python3"
  },
  "language_info": {
   "codemirror_mode": {
    "name": "ipython",
    "version": 3
   },
   "file_extension": ".py",
   "mimetype": "text/x-python",
   "name": "python",
   "nbconvert_exporter": "python",
   "pygments_lexer": "ipython3",
   "version": "3.8.10"
  }
 },
 "nbformat": 4,
 "nbformat_minor": 5
}
